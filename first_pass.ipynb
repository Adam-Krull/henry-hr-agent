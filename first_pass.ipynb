{
 "cells": [
  {
   "cell_type": "markdown",
   "id": "ffd43cdf",
   "metadata": {},
   "source": [
    "The purpose of this notebook is to create a working version of the HR agents. One supervisor agent will delegate tasks to the appropriate specialized agent."
   ]
  },
  {
   "cell_type": "code",
   "execution_count": null,
   "id": "96f15c63",
   "metadata": {
    "vscode": {
     "languageId": "plaintext"
    }
   },
   "outputs": [],
   "source": []
  }
 ],
 "metadata": {
  "language_info": {
   "name": "python"
  }
 },
 "nbformat": 4,
 "nbformat_minor": 5
}
