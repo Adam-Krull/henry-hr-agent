{
 "cells": [
  {
   "cell_type": "markdown",
   "id": "978ead92",
   "metadata": {},
   "source": [
    "The purpose of this document is to create the database for the RAG functionality for my agents. I will complete the following steps:\n",
    "- Pull benefit documentation from the internet\n",
    "- Create company HR policy documentation using chatgpt\n",
    "- Read in the PDFs\n",
    "- Chunk documents\n",
    "- Create embeddings\n",
    "- Store embeddings in two tables in database (one table for each agent)"
   ]
  },
  {
   "cell_type": "code",
   "execution_count": 20,
   "id": "6a8231e8",
   "metadata": {},
   "outputs": [],
   "source": [
    "import getpass\n",
    "import os\n",
    "import re\n",
    "\n",
    "import pandas as pd\n",
    "\n",
    "from langchain_community.document_loaders import PyPDFLoader\n",
    "from langchain_openai import OpenAIEmbeddings\n",
    "from langchain_postgres import PGVector\n",
    "from langchain_text_splitters import RecursiveCharacterTextSplitter"
   ]
  },
  {
   "cell_type": "markdown",
   "id": "cd25cb8d",
   "metadata": {},
   "source": [
    "I've pulled documents for three plans from BCBS -\n",
    "- Blue Advantage Gold Standard\n",
    "- Blue Advantage Silver Standard\n",
    "- Blue Advantage Bronze Standard\n",
    "\n",
    "Let's read the first one in and see what we've got."
   ]
  },
  {
   "cell_type": "code",
   "execution_count": 3,
   "id": "52b09196",
   "metadata": {},
   "outputs": [
    {
     "name": "stdout",
     "output_type": "stream",
     "text": [
      "47\n",
      "page_content='Blue Cross and Blue Shield of Texas, a Division of Health Care Service Corporation, \n",
      "a Mutual Legal Reserve Company, an Independent Licensee of the Blue Cross and Blue Shield Association \n",
      "TX-I-EX-H-CC-SOC-BH-25 \n",
      " \n",
      "Blue Advantage Gold HMO℠ Standard \n",
      "Blue Advantage HMOSM Network \n",
      "The following Benefit Highlights summarizes the coverage available under the offered HMO Plan. The \n",
      "Evidence of Coverage (EOC) documents You will receive after You enroll will provide more detailed \n",
      "information about this plan. This summary should be reviewed along with the Limitations and Exclusions. \n",
      "All Covered Services (except in emergencies) must be provided by or through Member’s Participating Primary \n",
      "Care Physician/Practitioner, who may refer them for further treatment by Providers in the applicable network \n",
      "of Participating Specialists and Hospita ls. Female Members may visit a Participating OB/GYN Physician in \n",
      "their Primary Care Physician’s/Practitioner’s Provider network for diagnosis and treatment without a Referral \n",
      "from their Primary Care Physician/Practitioner. Urgent Care, Retail Health Clinic s and Virtual Visits do not \n",
      "require Primary Care Physician/Practitioner Referral. Some services may require Prior Authorization by HMO. \n",
      "IMPORTANT NOTE: Copayments shown below indicate the amount You are required to pay, expressed as \n",
      "either a fixed dollar amount or a percentage of the Allowable Amount and applied for each occurrence, unless \n",
      "otherwise indicated. You will not be liable for any Copayments/C oinsurance once applicable Deductibles and \n",
      "out-of-pocket maximums have been met. Copayments/Coinsurance, Deductibles and out-of-pocket maximums \n",
      "may be adjusted for various reasons as permitted by applicable law.  \n",
      " \n",
      "Out-of-Pocket Maximums Per Calendar Year \n",
      "including Pharmacy Benefits \n",
      "Per Individual Member \n",
      "Per Family \n",
      "$7,800 \n",
      "$15,600 \n",
      "Deductibles Per Calendar Year \n",
      "Per Individual Member \n",
      "Per Family \n",
      "$1,500 \n",
      "$3,000 \n",
      "Professional Services \n",
      "Primary Care Physician/Practitioner (“PCP”) Office \n",
      "or Home Visit \n",
      "$30 Copay \n",
      "Participating Specialist Physician (“Specialist”) \n",
      "Office or Home Visit \n",
      "$60 Copay \n",
      "Inpatient Hospital Services \n",
      "Inpatient Hospital Services, for each admission 25% Coinsurance after Deductible \n",
      "Outpatient Facility Services \n",
      "Outpatient Surgery 25% Coinsurance after Deductible \n",
      "Outpatient Surgery - Physician 25% Coinsurance after Deductible \n",
      "-Radiation Therapy \n",
      "-Dialysis \n",
      "-Urgent Care Facility Services \n",
      "25% Coinsurance after Deductible \n",
      "Outpatient Infusion Therapy Services \n",
      "Routine Maintenance Drug - Hospital Setting $1,000 Copay \n",
      "Routine Maintenance Drug – Home, Office, Infusion \n",
      "Suite Setting \n",
      "$100 Copay \n",
      "Non-Maintenance Drug 25% Coinsurance after Deductible' metadata={'producer': 'Simplify Healthcare Inc using ABCpdf', 'creator': 'Microsoft? Word for Microsoft 365', 'creationdate': '2024-09-12T08:21:52-04:00', 'author': 'Centers for Medicare & Medicaid Services', 'keywords': '', 'moddate': '2024-09-12T08:21:52-04:00', 'subject': 'GHSA71BAVITXP', 'title': 'GHSA71BAVITXP', 'source': 'benefit-highlights/gold_standard.pdf', 'total_pages': 47, 'page': 0, 'page_label': '1'}\n"
     ]
    }
   ],
   "source": [
    "filepath = 'benefit-highlights/gold_standard.pdf'\n",
    "loader = PyPDFLoader(filepath)\n",
    "pages = loader.load()\n",
    "print(len(pages))\n",
    "print(pages[0])"
   ]
  },
  {
   "cell_type": "markdown",
   "id": "1d33c7a7",
   "metadata": {},
   "source": [
    "Cool. The quality looks good. I'll steal from a previous project to clean up the newline characters and excessive whitespace.\n",
    "\n",
    "Note: as I was investigating my data, I found a common phrase at the top of every document. I remove it to limit redundant characters in the dataset."
   ]
  },
  {
   "cell_type": "code",
   "execution_count": 9,
   "id": "0150e48f",
   "metadata": {},
   "outputs": [
    {
     "name": "stdout",
     "output_type": "stream",
     "text": [
      "page_content='The following Benefit Highlights summarizes the coverage available under the offered HMO Plan. The Evidence of Coverage (EOC) documents You will receive after You enroll will provide more detailed information about this plan. This summary should be reviewed along with the Limitations and Exclusions. All Covered Services (except in emergencies) must be provided by or through Member’s Participating Primary Care Physician/Practitioner, who may refer them for further treatment by Providers in the applicable network of Participating Specialists and Hospita ls. Female Members may visit a Participating OB/GYN Physician in their Primary Care Physician’s/Practitioner’s Provider network for diagnosis and treatment without a Referral from their Primary Care Physician/Practitioner. Urgent Care, Retail Health Clinic s and Virtual Visits do not require Primary Care Physician/Practitioner Referral. Some services may require Prior Authorization by HMO. IMPORTANT NOTE: Copayments shown below indicate the amount You are required to pay, expressed as either a fixed dollar amount or a percentage of the Allowable Amount and applied for each occurrence, unless otherwise indicated. You will not be liable for any Copayments/C oinsurance once applicable Deductibles and out-of-pocket maximums have been met. Copayments/Coinsurance, Deductibles and out-of-pocket maximums may be adjusted for various reasons as permitted by applicable law. Out-of-Pocket Maximums Per Calendar Year including Pharmacy Benefits Per Individual Member Per Family $7,800 $15,600 Deductibles Per Calendar Year Per Individual Member Per Family $1,500 $3,000 Professional Services Primary Care Physician/Practitioner (“PCP”) Office or Home Visit $30 Copay Participating Specialist Physician (“Specialist”) Office or Home Visit $60 Copay Inpatient Hospital Services Inpatient Hospital Services, for each admission 25% Coinsurance after Deductible Outpatient Facility Services Outpatient Surgery 25% Coinsurance after Deductible Outpatient Surgery - Physician 25% Coinsurance after Deductible -Radiation Therapy -Dialysis -Urgent Care Facility Services 25% Coinsurance after Deductible Outpatient Infusion Therapy Services Routine Maintenance Drug - Hospital Setting $1,000 Copay Routine Maintenance Drug – Home, Office, Infusion Suite Setting $100 Copay Non-Maintenance Drug 25% Coinsurance after Deductible' metadata={'producer': 'Simplify Healthcare Inc using ABCpdf', 'creator': 'Microsoft? Word for Microsoft 365', 'creationdate': '2024-09-12T08:21:52-04:00', 'author': 'Centers for Medicare & Medicaid Services', 'keywords': '', 'moddate': '2024-09-12T08:21:52-04:00', 'subject': 'GHSA71BAVITXP', 'title': 'GHSA71BAVITXP', 'source': 'benefit-highlights/gold_standard.pdf', 'total_pages': 47, 'page': 0, 'page_label': '1'}\n"
     ]
    }
   ],
   "source": [
    "regexp = r'\\s+'\n",
    "\n",
    "for page in pages:\n",
    "    old_content = page.page_content\n",
    "    new_content = old_content.replace('\\n', ' ').replace('Blue Cross and Blue Shield of Texas, a Division of Health Care Service Corporation, a Mutual Legal Reserve Company, an Independent Licensee of the Blue Cross and Blue Shield Association TX-I-EX-H-CC-SOC-BH-25 Blue Advantage Gold HMO℠ Standard Blue Advantage HMOSM Network', '').strip()\n",
    "    new_content = re.sub(regexp, ' ', new_content)\n",
    "    page.page_content = new_content\n",
    "\n",
    "print(pages[0])    "
   ]
  },
  {
   "cell_type": "markdown",
   "id": "1a4ee84c",
   "metadata": {},
   "source": [
    "As you can see, everything prints in one line. This isn't great for our ability to read the content but it trims unimportant characters from the page content. Now we need to create chunks from the manual so we can embed bite-size pieces of the document."
   ]
  },
  {
   "cell_type": "code",
   "execution_count": 15,
   "id": "fcc14f16",
   "metadata": {},
   "outputs": [
    {
     "name": "stdout",
     "output_type": "stream",
     "text": [
      "195\n"
     ]
    }
   ],
   "source": [
    "splitter = RecursiveCharacterTextSplitter(\n",
    "    chunk_size=1_000, chunk_overlap=200\n",
    ")\n",
    "splits = splitter.split_documents(pages)\n",
    "print(len(splits))"
   ]
  },
  {
   "cell_type": "code",
   "execution_count": null,
   "id": "22b02cdb",
   "metadata": {},
   "outputs": [],
   "source": [
    "if not os.environ.get('OPENAI_API_KEY'):\n",
    "    os.environ['OPENAI_API_KEY'] = getpass.getpass('Enter your OpenAI API key: ')\n",
    "embeddings = OpenAIEmbeddings(model='text-embedding-3-large')    "
   ]
  },
  {
   "cell_type": "markdown",
   "id": "683203e4",
   "metadata": {},
   "source": [
    "We took a 47 page document and created 195 chunks. Now I want to turn it into a pandas dataframe with the following information:\n",
    "- BCBS plan (gold)\n",
    "- Page (page_label)\n",
    "- Content (page_content)\n",
    "- Embeddings"
   ]
  },
  {
   "cell_type": "code",
   "execution_count": null,
   "id": "e6fab235",
   "metadata": {},
   "outputs": [],
   "source": []
  }
 ],
 "metadata": {
  "kernelspec": {
   "display_name": "base",
   "language": "python",
   "name": "python3"
  },
  "language_info": {
   "codemirror_mode": {
    "name": "ipython",
    "version": 3
   },
   "file_extension": ".py",
   "mimetype": "text/x-python",
   "name": "python",
   "nbconvert_exporter": "python",
   "pygments_lexer": "ipython3",
   "version": "3.12.4"
  }
 },
 "nbformat": 4,
 "nbformat_minor": 5
}
