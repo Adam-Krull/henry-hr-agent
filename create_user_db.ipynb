{
 "cells": [
  {
   "cell_type": "markdown",
   "id": "704891ca",
   "metadata": {},
   "source": [
    "The purpose of this document is to create a database of fake company employees and their personal information, including the health care plan to which they are subscribed."
   ]
  },
  {
   "cell_type": "code",
   "execution_count": 1,
   "id": "8b9277fc",
   "metadata": {},
   "outputs": [],
   "source": [
    "import psycopg"
   ]
  },
  {
   "cell_type": "markdown",
   "id": "e0ade1f2",
   "metadata": {},
   "source": [
    "We need to randomly generate some junk data. It needs to include basic employee information such as first and last name, email address, and health care plan. The health care plan is important because it will be used to refine the vector query made by an agent. I may also include an \"is manager\" binary field to help refine queries for the HR policy vector database. Some documentation may be reserved for managers."
   ]
  },
  {
   "cell_type": "code",
   "execution_count": 2,
   "id": "2ef53153",
   "metadata": {},
   "outputs": [],
   "source": [
    "first_names = ['Adam', 'Susanna', 'Jack', 'Charles', 'Alice']\n",
    "last_names = ['Krull', 'Krull', 'Craig', 'Patterson', 'Wonderland']\n",
    "emails = ['ak@company.ai', 'sk@company.ai', 'jc@company.ai', 'cp@company.ai', 'aw@company.ai']\n",
    "plans = ['Bronze', 'Gold', 'Gold', 'Bronze', 'Silver']\n",
    "is_manager = [False, True, False, True, False]"
   ]
  },
  {
   "cell_type": "markdown",
   "id": "a1efff53",
   "metadata": {},
   "source": [
    "We need to massage it into a list of tuples for insertion into a SQL table."
   ]
  },
  {
   "cell_type": "code",
   "execution_count": 19,
   "id": "1dd6cebd",
   "metadata": {},
   "outputs": [
    {
     "name": "stdout",
     "output_type": "stream",
     "text": [
      "[('Adam', 'Krull', 'ak@company.ai', 'Bronze', False), ('Susanna', 'Krull', 'sk@company.ai', 'Gold', True), ('Jack', 'Craig', 'jc@company.ai', 'Gold', False), ('Charles', 'Patterson', 'cp@company.ai', 'Bronze', True), ('Alice', 'Wonderland', 'aw@company.ai', 'Silver', False)]\n"
     ]
    }
   ],
   "source": [
    "entries = []\n",
    "\n",
    "for i in range(len(first_names)):\n",
    "    new_tup = (first_names[i], last_names[i], emails[i], plans[i], is_manager[i])\n",
    "    entries.append(new_tup)\n",
    "\n",
    "print(entries)    "
   ]
  },
  {
   "cell_type": "markdown",
   "id": "685f6674",
   "metadata": {},
   "source": [
    "By default, Postgres creates a database of name \"postgres\". We'll connect to it and create a new table in the database for our employees. I'm using the same connection information from the other documents to create the connection to the hosted postgres database on my PC."
   ]
  },
  {
   "cell_type": "code",
   "execution_count": 28,
   "id": "875daf1a",
   "metadata": {},
   "outputs": [],
   "source": [
    "connection = 'user=langchain password=langchain host=localhost port=32768 dbname=postgres'\n",
    "\n",
    "with psycopg.connect(connection) as conn:\n",
    "    conn.set_autocommit(True)\n",
    "    with conn.cursor() as cur:\n",
    "        cur.execute('drop table if exists employees')\n",
    "        cur.execute(\"\"\"\n",
    "            CREATE TABLE employees (\n",
    "                    id serial primary key,\n",
    "                    first_name varchar(20),\n",
    "                    last_name varchar(20),\n",
    "                    email varchar(30),\n",
    "                    plan varchar(20),\n",
    "                    is_manager boolean)\n",
    "                \"\"\")"
   ]
  },
  {
   "cell_type": "markdown",
   "id": "c794d9b6",
   "metadata": {},
   "source": [
    "Great! We have a table. Let's insert the values from above."
   ]
  },
  {
   "cell_type": "code",
   "execution_count": 29,
   "id": "db06be6b",
   "metadata": {},
   "outputs": [],
   "source": [
    "with psycopg.connect(connection) as conn:\n",
    "    with conn.cursor() as cur:\n",
    "        cur.executemany(f\"\"\"\n",
    "            INSERT into employees (first_name, last_name, email, plan, is_manager)\n",
    "            VALUES (%s, %s, %s, %s, %s)\"\"\",\n",
    "            entries)"
   ]
  },
  {
   "cell_type": "markdown",
   "id": "ea5c6961",
   "metadata": {},
   "source": [
    "Our database has been populated. Let's try a query to ensure things work as expected."
   ]
  },
  {
   "cell_type": "code",
   "execution_count": 15,
   "id": "798aea1d",
   "metadata": {},
   "outputs": [
    {
     "name": "stdout",
     "output_type": "stream",
     "text": [
      "(1, 'Adam', 'Krull', 'ak@company.ai', 'Bronze', False)\n"
     ]
    }
   ],
   "source": [
    "connection = 'user=langchain password=langchain host=localhost port=32768 dbname=postgres'\n",
    "\n",
    "with psycopg.connect(connection) as conn:\n",
    "    with conn.cursor() as cur:\n",
    "        cur.execute(\"SELECT * FROM employees WHERE last_name = 'Krull'\")\n",
    "        result = cur.fetchone()\n",
    "        print(result)"
   ]
  },
  {
   "cell_type": "markdown",
   "id": "ef369ac5",
   "metadata": {},
   "source": [
    "Note about this query: I had to wrap the SQL statement in double quotes so my last name could be passed in single quotes. Otherwise, the database tried to interpet my last name as a column name."
   ]
  },
  {
   "cell_type": "markdown",
   "id": "27893aee",
   "metadata": {},
   "source": []
  }
 ],
 "metadata": {
  "kernelspec": {
   "display_name": "base",
   "language": "python",
   "name": "python3"
  },
  "language_info": {
   "codemirror_mode": {
    "name": "ipython",
    "version": 3
   },
   "file_extension": ".py",
   "mimetype": "text/x-python",
   "name": "python",
   "nbconvert_exporter": "python",
   "pygments_lexer": "ipython3",
   "version": "3.12.4"
  }
 },
 "nbformat": 4,
 "nbformat_minor": 5
}
